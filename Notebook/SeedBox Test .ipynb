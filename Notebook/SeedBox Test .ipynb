{
 "cells": [
  {
   "cell_type": "code",
   "execution_count": 76,
   "metadata": {
    "collapsed": true,
    "deletable": true,
    "editable": true
   },
   "outputs": [],
   "source": [
    "# numpy and pandas for data manipulation\n",
    "import numpy as np\n",
    "import pandas as pd \n",
    "\n",
    "# sklearn preprocessing for dealing with categorical variables\n",
    "from sklearn.preprocessing import LabelEncoder\n",
    "\n",
    "# File system manangement\n",
    "import os\n",
    "\n",
    "# Suppress warnings \n",
    "import warnings\n",
    "warnings.filterwarnings('ignore')\n",
    "\n",
    "# matplotlib and seaborn for plotting\n",
    "import random\n",
    "import plotly.plotly as py\n",
    "import plotly.graph_objs as go\n",
    "import matplotlib.pyplot as plt\n",
    "import seaborn as sns\n",
    "%matplotlib inline "
   ]
  },
  {
   "cell_type": "markdown",
   "metadata": {
    "deletable": true,
    "editable": true
   },
   "source": [
    "## Load in the Data and Examine"
   ]
  },
  {
   "cell_type": "code",
   "execution_count": 77,
   "metadata": {
    "collapsed": false,
    "deletable": true,
    "editable": true
   },
   "outputs": [
    {
     "name": "stdout",
     "output_type": "stream",
     "text": [
      "Clients data shape:  (59721, 2)\n"
     ]
    },
    {
     "data": {
      "text/html": [
       "<div>\n",
       "<style scoped>\n",
       "    .dataframe tbody tr th:only-of-type {\n",
       "        vertical-align: middle;\n",
       "    }\n",
       "\n",
       "    .dataframe tbody tr th {\n",
       "        vertical-align: top;\n",
       "    }\n",
       "\n",
       "    .dataframe thead th {\n",
       "        text-align: right;\n",
       "    }\n",
       "</style>\n",
       "<table border=\"1\" class=\"dataframe\">\n",
       "  <thead>\n",
       "    <tr style=\"text-align: right;\">\n",
       "      <th></th>\n",
       "      <th>sample_id</th>\n",
       "      <th>test_group</th>\n",
       "    </tr>\n",
       "  </thead>\n",
       "  <tbody>\n",
       "    <tr>\n",
       "      <th>0</th>\n",
       "      <td>1</td>\n",
       "      <td>0</td>\n",
       "    </tr>\n",
       "    <tr>\n",
       "      <th>1</th>\n",
       "      <td>2</td>\n",
       "      <td>1</td>\n",
       "    </tr>\n",
       "    <tr>\n",
       "      <th>2</th>\n",
       "      <td>3</td>\n",
       "      <td>0</td>\n",
       "    </tr>\n",
       "    <tr>\n",
       "      <th>3</th>\n",
       "      <td>4</td>\n",
       "      <td>1</td>\n",
       "    </tr>\n",
       "    <tr>\n",
       "      <th>4</th>\n",
       "      <td>5</td>\n",
       "      <td>1</td>\n",
       "    </tr>\n",
       "  </tbody>\n",
       "</table>\n",
       "</div>"
      ],
      "text/plain": [
       "   sample_id  test_group\n",
       "0          1           0\n",
       "1          2           1\n",
       "2          3           0\n",
       "3          4           1\n",
       "4          5           1"
      ]
     },
     "execution_count": 77,
     "metadata": {},
     "output_type": "execute_result"
    }
   ],
   "source": [
    "# TestSample data\n",
    "app_data = pd.read_csv('Data/testSamples.csv')\n",
    "print('Clients data shape: ', app_data.shape)\n",
    "app_data.head()"
   ]
  },
  {
   "cell_type": "markdown",
   "metadata": {
    "deletable": true,
    "editable": true
   },
   "source": [
    "### Examine the Distribution of the test_group Column"
   ]
  },
  {
   "cell_type": "code",
   "execution_count": 78,
   "metadata": {
    "collapsed": false,
    "deletable": true,
    "editable": true
   },
   "outputs": [
    {
     "data": {
      "text/plain": [
       "0    44886\n",
       "1    14835\n",
       "Name: test_group, dtype: int64"
      ]
     },
     "execution_count": 78,
     "metadata": {},
     "output_type": "execute_result"
    }
   ],
   "source": [
    "app_data['test_group'].value_counts()"
   ]
  },
  {
   "cell_type": "code",
   "execution_count": 79,
   "metadata": {
    "collapsed": false,
    "deletable": true,
    "editable": true
   },
   "outputs": [
    {
     "data": {
      "text/plain": [
       "<matplotlib.axes._subplots.AxesSubplot at 0x1cc936f1198>"
      ]
     },
     "execution_count": 79,
     "metadata": {},
     "output_type": "execute_result"
    },
    {
     "data": {
      "image/png": "[encoded data removed]",
      "text/plain": [
       "<Figure size 432x288 with 1 Axes>"
      ]
     },
     "metadata": {},
     "output_type": "display_data"
    }
   ],
   "source": [
    "app_data['test_group'].astype(int).plot.hist()"
   ]
  },
  {
   "cell_type": "markdown",
   "metadata": {
    "deletable": true,
    "editable": true
   },
   "source": [
    "From this information, we see this is an imbalanced class problem ( with a raport of  1:3). There are far more clients who can cancel using a web form (control group) than those who can only cancel by calling in (test group). With some sophisticated machine learning models, we can weight the classes by their representation in the data to reflect this imbalance."
   ]
  },
  {
   "cell_type": "markdown",
   "metadata": {
    "deletable": true,
    "editable": true
   },
   "source": [
    "## Aproximate probability distribution between the test group and the control group"
   ]
  },
  {
   "cell_type": "markdown",
   "metadata": {
    "deletable": true,
    "editable": true
   },
   "source": [
    "\n",
    "The probability distribution between two variables (events) is called Joint Probability distribution. Since the data contained into control and test group is discrete, we can calculate  their individual probability distribution function as the probability of each event occuring. One individual probability distribution function is as well the conditional probability  of the other one.  \n"
   ]
  },
  {
   "cell_type": "markdown",
   "metadata": {
    "deletable": true,
    "editable": true
   },
   "source": [
    "__The probability distrbution function control group :__"
   ]
  },
  {
   "cell_type": "code",
   "execution_count": 80,
   "metadata": {
    "collapsed": false,
    "deletable": true,
    "editable": true
   },
   "outputs": [
    {
     "data": {
      "text/plain": [
       "0.751594916361079"
      ]
     },
     "execution_count": 80,
     "metadata": {},
     "output_type": "execute_result"
    }
   ],
   "source": [
    "control=44886 # clients who can cancel using a web form\n",
    "TOTAL=59721 #total number of clients\n",
    "proba_control=control/TOTAL #probability distribution of control group (PDF)\n",
    "proba_control\n"
   ]
  },
  {
   "cell_type": "markdown",
   "metadata": {
    "deletable": true,
    "editable": true
   },
   "source": [
    "__The probability distrbution function for test group :__"
   ]
  },
  {
   "cell_type": "code",
   "execution_count": 81,
   "metadata": {
    "collapsed": false,
    "deletable": true,
    "editable": true
   },
   "outputs": [
    {
     "data": {
      "text/plain": [
       "0.24840508363892097"
      ]
     },
     "execution_count": 81,
     "metadata": {},
     "output_type": "execute_result"
    }
   ],
   "source": [
    "test=14835 #number of clients who can only cancel by calling in\n",
    "TOTAL=59721 #total number of clients\n",
    "proba_test=test/TOTAL #probability distribution of test group (PFD)\n",
    "proba_test"
   ]
  },
  {
   "cell_type": "markdown",
   "metadata": {
    "deletable": true,
    "editable": true
   },
   "source": [
    "Or can be cal calculated as the probability distribution of control group substracted from 1.0."
   ]
  },
  {
   "cell_type": "code",
   "execution_count": 82,
   "metadata": {
    "collapsed": false,
    "deletable": true,
    "editable": true
   },
   "outputs": [
    {
     "data": {
      "text/plain": [
       "0.248405083638921"
      ]
     },
     "execution_count": 82,
     "metadata": {},
     "output_type": "execute_result"
    }
   ],
   "source": [
    "proba_test=1-proba_control\n",
    "proba_test"
   ]
  },
  {
   "cell_type": "markdown",
   "metadata": {
    "deletable": true,
    "editable": true
   },
   "source": [
    "__Since the group in which the sample was placed was a random and biased event (unequal sample sized), the joint probability density function is the product of the two marginals (conditional) probability distributions__ [an example of biased coin flip](http://jim-stone.staff.shef.ac.uk/BookBayes2012/bookbayesch01WithPython.pdf):"
   ]
  },
  {
   "cell_type": "code",
   "execution_count": 83,
   "metadata": {
    "collapsed": false,
    "deletable": true,
    "editable": true
   },
   "outputs": [
    {
     "data": {
      "text/plain": [
       "0.18669999806126167"
      ]
     },
     "execution_count": 83,
     "metadata": {},
     "output_type": "execute_result"
    }
   ],
   "source": [
    "joint_proba=proba_test*proba_control\n",
    "joint_proba"
   ]
  },
  {
   "cell_type": "markdown",
   "metadata": {
    "deletable": true,
    "editable": true
   },
   "source": [
    "### Simulation on flip of biased coin for sanity check"
   ]
  },
  {
   "cell_type": "code",
   "execution_count": 84,
   "metadata": {
    "collapsed": true,
    "deletable": true,
    "editable": true
   },
   "outputs": [],
   "source": [
    "def flip(p):\n",
    "    return 'H' if random.random() < p else 'T'"
   ]
  },
  {
   "cell_type": "code",
   "execution_count": 85,
   "metadata": {
    "collapsed": false,
    "deletable": true,
    "editable": true
   },
   "outputs": [
    {
     "data": {
      "text/plain": [
       "0.24614457226101372"
      ]
     },
     "execution_count": 85,
     "metadata": {},
     "output_type": "execute_result"
    }
   ],
   "source": [
    "N = 59721 #total number\n",
    "flips = [flip(0.248) for i in range(N)] #probability of 0.248 to flip \n",
    "float(flips.count('H'))/N"
   ]
  },
  {
   "cell_type": "code",
   "execution_count": 86,
   "metadata": {
    "collapsed": false,
    "deletable": true,
    "editable": true
   },
   "outputs": [
    {
     "name": "stdout",
     "output_type": "stream",
     "text": [
      "Transations data shape:  (7430, 4)\n"
     ]
    },
    {
     "data": {
      "text/html": [
       "<div>\n",
       "<style scoped>\n",
       "    .dataframe tbody tr th:only-of-type {\n",
       "        vertical-align: middle;\n",
       "    }\n",
       "\n",
       "    .dataframe tbody tr th {\n",
       "        vertical-align: top;\n",
       "    }\n",
       "\n",
       "    .dataframe thead th {\n",
       "        text-align: right;\n",
       "    }\n",
       "</style>\n",
       "<table border=\"1\" class=\"dataframe\">\n",
       "  <thead>\n",
       "    <tr style=\"text-align: right;\">\n",
       "      <th></th>\n",
       "      <th>transaction_id</th>\n",
       "      <th>sample_id</th>\n",
       "      <th>transaction_type</th>\n",
       "      <th>transaction_amount</th>\n",
       "    </tr>\n",
       "  </thead>\n",
       "  <tbody>\n",
       "    <tr>\n",
       "      <th>0</th>\n",
       "      <td>52346326</td>\n",
       "      <td>11</td>\n",
       "      <td>REBILL</td>\n",
       "      <td>24.95</td>\n",
       "    </tr>\n",
       "    <tr>\n",
       "      <th>1</th>\n",
       "      <td>52346327</td>\n",
       "      <td>11</td>\n",
       "      <td>REBILL</td>\n",
       "      <td>24.95</td>\n",
       "    </tr>\n",
       "    <tr>\n",
       "      <th>2</th>\n",
       "      <td>52346328</td>\n",
       "      <td>32</td>\n",
       "      <td>REBILL</td>\n",
       "      <td>29.95</td>\n",
       "    </tr>\n",
       "    <tr>\n",
       "      <th>3</th>\n",
       "      <td>52346329</td>\n",
       "      <td>32</td>\n",
       "      <td>REBILL</td>\n",
       "      <td>29.95</td>\n",
       "    </tr>\n",
       "    <tr>\n",
       "      <th>4</th>\n",
       "      <td>52346330</td>\n",
       "      <td>32</td>\n",
       "      <td>REBILL</td>\n",
       "      <td>29.95</td>\n",
       "    </tr>\n",
       "  </tbody>\n",
       "</table>\n",
       "</div>"
      ],
      "text/plain": [
       "   transaction_id  sample_id transaction_type  transaction_amount\n",
       "0        52346326         11           REBILL               24.95\n",
       "1        52346327         11           REBILL               24.95\n",
       "2        52346328         32           REBILL               29.95\n",
       "3        52346329         32           REBILL               29.95\n",
       "4        52346330         32           REBILL               29.95"
      ]
     },
     "execution_count": 86,
     "metadata": {},
     "output_type": "execute_result"
    }
   ],
   "source": [
    "# Transactions  data\n",
    "transactions = pd.read_csv('Data/transData.csv')\n",
    "print('Transations data shape: ', transactions.shape)\n",
    "transactions.head()"
   ]
  },
  {
   "cell_type": "markdown",
   "metadata": {
    "deletable": true,
    "editable": true
   },
   "source": [
    "### Data Types and Missing Values"
   ]
  },
  {
   "cell_type": "code",
   "execution_count": 87,
   "metadata": {
    "collapsed": false,
    "deletable": true,
    "editable": true
   },
   "outputs": [
    {
     "name": "stdout",
     "output_type": "stream",
     "text": [
      "<class 'pandas.core.frame.DataFrame'>\n",
      "RangeIndex: 7430 entries, 0 to 7429\n",
      "Data columns (total 4 columns):\n",
      "transaction_id        7430 non-null int64\n",
      "sample_id             7430 non-null int64\n",
      "transaction_type      7430 non-null object\n",
      "transaction_amount    7430 non-null float64\n",
      "dtypes: float64(1), int64(2), object(1)\n",
      "memory usage: 232.3+ KB\n"
     ]
    }
   ],
   "source": [
    "# See the column data types and non-missing values\n",
    "transactions.info()"
   ]
  },
  {
   "cell_type": "code",
   "execution_count": 88,
   "metadata": {
    "collapsed": true,
    "deletable": true,
    "editable": true
   },
   "outputs": [],
   "source": [
    "# Function to calculate missing values by column# Funct \n",
    "def missing_values_table(df):\n",
    "        # Total missing values\n",
    "        mis_val = df.isnull().sum()\n",
    "        \n",
    "        # Percentage of missing values\n",
    "        mis_val_percent = 100 * df.isnull().sum() / len(df)\n",
    "        \n",
    "        # Make a table with the results\n",
    "        mis_val_table = pd.concat([mis_val, mis_val_percent], axis=1)\n",
    "        \n",
    "        # Rename the columns\n",
    "        mis_val_table_ren_columns = mis_val_table.rename(\n",
    "        columns = {0 : 'Missing Values', 1 : '% of Total Values'})\n",
    "        \n",
    "        # Sort the table by percentage of missing descending\n",
    "        mis_val_table_ren_columns = mis_val_table_ren_columns[\n",
    "            mis_val_table_ren_columns.iloc[:,1] != 0].sort_values(\n",
    "        '% of Total Values', ascending=False).round(1)\n",
    "        \n",
    "        # Print some summary information\n",
    "        print (\"Your selected dataframe has \" + str(df.shape[1]) + \" columns.\\n\"      \n",
    "            \"There are \" + str(mis_val_table_ren_columns.shape[0]) +\n",
    "              \" columns that have missing values.\")"
   ]
  },
  {
   "cell_type": "code",
   "execution_count": 89,
   "metadata": {
    "collapsed": false,
    "deletable": true,
    "editable": true
   },
   "outputs": [
    {
     "name": "stdout",
     "output_type": "stream",
     "text": [
      "Your selected dataframe has 4 columns.\n",
      "There are 0 columns that have missing values.\n"
     ]
    },
    {
     "ename": "AttributeError",
     "evalue": "'NoneType' object has no attribute 'head'",
     "output_type": "error",
     "traceback": [
      "\u001b[1;31m---------------------------------------------------------------------------\u001b[0m",
      "\u001b[1;31mAttributeError\u001b[0m                            Traceback (most recent call last)",
      "\u001b[1;32m<ipython-input-89-27473c5d32d3>\u001b[0m in \u001b[0;36m<module>\u001b[1;34m()\u001b[0m\n\u001b[0;32m      1\u001b[0m \u001b[1;31m# Missing values statistics\u001b[0m\u001b[1;33m\u001b[0m\u001b[1;33m\u001b[0m\u001b[0m\n\u001b[0;32m      2\u001b[0m \u001b[0mmissing_values\u001b[0m \u001b[1;33m=\u001b[0m \u001b[0mmissing_values_table\u001b[0m\u001b[1;33m(\u001b[0m\u001b[0mtransactions\u001b[0m\u001b[1;33m)\u001b[0m\u001b[1;33m\u001b[0m\u001b[0m\n\u001b[1;32m----> 3\u001b[1;33m \u001b[0mmissing_values\u001b[0m\u001b[1;33m.\u001b[0m\u001b[0mhead\u001b[0m\u001b[1;33m(\u001b[0m\u001b[1;33m)\u001b[0m\u001b[1;33m\u001b[0m\u001b[0m\n\u001b[0m",
      "\u001b[1;31mAttributeError\u001b[0m: 'NoneType' object has no attribute 'head'"
     ]
    }
   ],
   "source": [
    "# Missing values statistics\n",
    "missing_values = missing_values_table(transactions)\n",
    "missing_values.head()"
   ]
  },
  {
   "cell_type": "code",
   "execution_count": 90,
   "metadata": {
    "collapsed": true,
    "deletable": true,
    "editable": true
   },
   "outputs": [],
   "source": [
    "## add the data contained in transaction file to the TestSample data\n",
    "app_data= app_data.merge(transactions, on = 'sample_id', how = 'left')"
   ]
  },
  {
   "cell_type": "code",
   "execution_count": 91,
   "metadata": {
    "collapsed": false,
    "deletable": true,
    "editable": true
   },
   "outputs": [
    {
     "data": {
      "text/plain": [
       "sample_id               int64\n",
       "test_group              int64\n",
       "transaction_id        float64\n",
       "transaction_type       object\n",
       "transaction_amount    float64\n",
       "dtype: object"
      ]
     },
     "execution_count": 91,
     "metadata": {},
     "output_type": "execute_result"
    }
   ],
   "source": [
    "app_data.dtypes"
   ]
  },
  {
   "cell_type": "code",
   "execution_count": 92,
   "metadata": {
    "collapsed": false,
    "deletable": true,
    "editable": true
   },
   "outputs": [],
   "source": [
    "# one-hot encoding of categorical variables\n",
    "app_data = pd.get_dummies(app_data)"
   ]
  },
  {
   "cell_type": "code",
   "execution_count": 93,
   "metadata": {
    "collapsed": false,
    "deletable": true,
    "editable": true
   },
   "outputs": [
    {
     "name": "stdout",
     "output_type": "stream",
     "text": [
      "Training Features shape:  (64437, 7)\n"
     ]
    }
   ],
   "source": [
    "print('Training Features shape: ', app_data.shape)"
   ]
  },
  {
   "cell_type": "code",
   "execution_count": 94,
   "metadata": {
    "collapsed": false,
    "deletable": true,
    "editable": true
   },
   "outputs": [
    {
     "data": {
      "text/html": [
       "<div>\n",
       "<style scoped>\n",
       "    .dataframe tbody tr th:only-of-type {\n",
       "        vertical-align: middle;\n",
       "    }\n",
       "\n",
       "    .dataframe tbody tr th {\n",
       "        vertical-align: top;\n",
       "    }\n",
       "\n",
       "    .dataframe thead th {\n",
       "        text-align: right;\n",
       "    }\n",
       "</style>\n",
       "<table border=\"1\" class=\"dataframe\">\n",
       "  <thead>\n",
       "    <tr style=\"text-align: right;\">\n",
       "      <th></th>\n",
       "      <th>sample_id</th>\n",
       "      <th>test_group</th>\n",
       "      <th>transaction_id</th>\n",
       "      <th>transaction_amount</th>\n",
       "      <th>transaction_type_CHARGEBACK</th>\n",
       "      <th>transaction_type_REBILL</th>\n",
       "      <th>transaction_type_REFUND</th>\n",
       "    </tr>\n",
       "  </thead>\n",
       "  <tbody>\n",
       "    <tr>\n",
       "      <th>0</th>\n",
       "      <td>1</td>\n",
       "      <td>0</td>\n",
       "      <td>NaN</td>\n",
       "      <td>NaN</td>\n",
       "      <td>0</td>\n",
       "      <td>0</td>\n",
       "      <td>0</td>\n",
       "    </tr>\n",
       "    <tr>\n",
       "      <th>1</th>\n",
       "      <td>2</td>\n",
       "      <td>1</td>\n",
       "      <td>NaN</td>\n",
       "      <td>NaN</td>\n",
       "      <td>0</td>\n",
       "      <td>0</td>\n",
       "      <td>0</td>\n",
       "    </tr>\n",
       "    <tr>\n",
       "      <th>2</th>\n",
       "      <td>3</td>\n",
       "      <td>0</td>\n",
       "      <td>NaN</td>\n",
       "      <td>NaN</td>\n",
       "      <td>0</td>\n",
       "      <td>0</td>\n",
       "      <td>0</td>\n",
       "    </tr>\n",
       "    <tr>\n",
       "      <th>3</th>\n",
       "      <td>4</td>\n",
       "      <td>1</td>\n",
       "      <td>NaN</td>\n",
       "      <td>NaN</td>\n",
       "      <td>0</td>\n",
       "      <td>0</td>\n",
       "      <td>0</td>\n",
       "    </tr>\n",
       "    <tr>\n",
       "      <th>4</th>\n",
       "      <td>5</td>\n",
       "      <td>1</td>\n",
       "      <td>NaN</td>\n",
       "      <td>NaN</td>\n",
       "      <td>0</td>\n",
       "      <td>0</td>\n",
       "      <td>0</td>\n",
       "    </tr>\n",
       "  </tbody>\n",
       "</table>\n",
       "</div>"
      ],
      "text/plain": [
       "   sample_id  test_group  transaction_id  transaction_amount  \\\n",
       "0          1           0             NaN                 NaN   \n",
       "1          2           1             NaN                 NaN   \n",
       "2          3           0             NaN                 NaN   \n",
       "3          4           1             NaN                 NaN   \n",
       "4          5           1             NaN                 NaN   \n",
       "\n",
       "   transaction_type_CHARGEBACK  transaction_type_REBILL  \\\n",
       "0                            0                        0   \n",
       "1                            0                        0   \n",
       "2                            0                        0   \n",
       "3                            0                        0   \n",
       "4                            0                        0   \n",
       "\n",
       "   transaction_type_REFUND  \n",
       "0                        0  \n",
       "1                        0  \n",
       "2                        0  \n",
       "3                        0  \n",
       "4                        0  "
      ]
     },
     "execution_count": 94,
     "metadata": {},
     "output_type": "execute_result"
    }
   ],
   "source": [
    "app_data.head()"
   ]
  },
  {
   "cell_type": "code",
   "execution_count": 95,
   "metadata": {
    "collapsed": false,
    "deletable": true,
    "editable": true
   },
   "outputs": [
    {
     "data": {
      "text/html": [
       "<div>\n",
       "<style scoped>\n",
       "    .dataframe tbody tr th:only-of-type {\n",
       "        vertical-align: middle;\n",
       "    }\n",
       "\n",
       "    .dataframe tbody tr th {\n",
       "        vertical-align: top;\n",
       "    }\n",
       "\n",
       "    .dataframe thead th {\n",
       "        text-align: right;\n",
       "    }\n",
       "</style>\n",
       "<table border=\"1\" class=\"dataframe\">\n",
       "  <thead>\n",
       "    <tr style=\"text-align: right;\">\n",
       "      <th></th>\n",
       "      <th>sample_id</th>\n",
       "      <th>test_group</th>\n",
       "      <th>transaction_id</th>\n",
       "      <th>transaction_amount</th>\n",
       "      <th>transaction_type_CHARGEBACK</th>\n",
       "      <th>transaction_type_REBILL</th>\n",
       "      <th>transaction_type_REFUND</th>\n",
       "    </tr>\n",
       "  </thead>\n",
       "  <tbody>\n",
       "    <tr>\n",
       "      <th>10</th>\n",
       "      <td>11</td>\n",
       "      <td>1</td>\n",
       "      <td>52346326.0</td>\n",
       "      <td>24.95</td>\n",
       "      <td>0</td>\n",
       "      <td>1</td>\n",
       "      <td>0</td>\n",
       "    </tr>\n",
       "    <tr>\n",
       "      <th>11</th>\n",
       "      <td>11</td>\n",
       "      <td>1</td>\n",
       "      <td>52346327.0</td>\n",
       "      <td>24.95</td>\n",
       "      <td>0</td>\n",
       "      <td>1</td>\n",
       "      <td>0</td>\n",
       "    </tr>\n",
       "    <tr>\n",
       "      <th>32</th>\n",
       "      <td>32</td>\n",
       "      <td>1</td>\n",
       "      <td>52346328.0</td>\n",
       "      <td>29.95</td>\n",
       "      <td>0</td>\n",
       "      <td>1</td>\n",
       "      <td>0</td>\n",
       "    </tr>\n",
       "    <tr>\n",
       "      <th>33</th>\n",
       "      <td>32</td>\n",
       "      <td>1</td>\n",
       "      <td>52346329.0</td>\n",
       "      <td>29.95</td>\n",
       "      <td>0</td>\n",
       "      <td>1</td>\n",
       "      <td>0</td>\n",
       "    </tr>\n",
       "    <tr>\n",
       "      <th>34</th>\n",
       "      <td>32</td>\n",
       "      <td>1</td>\n",
       "      <td>52346330.0</td>\n",
       "      <td>29.95</td>\n",
       "      <td>0</td>\n",
       "      <td>1</td>\n",
       "      <td>0</td>\n",
       "    </tr>\n",
       "    <tr>\n",
       "      <th>35</th>\n",
       "      <td>32</td>\n",
       "      <td>1</td>\n",
       "      <td>52346331.0</td>\n",
       "      <td>29.95</td>\n",
       "      <td>0</td>\n",
       "      <td>1</td>\n",
       "      <td>0</td>\n",
       "    </tr>\n",
       "    <tr>\n",
       "      <th>106</th>\n",
       "      <td>103</td>\n",
       "      <td>0</td>\n",
       "      <td>52346332.0</td>\n",
       "      <td>19.95</td>\n",
       "      <td>0</td>\n",
       "      <td>1</td>\n",
       "      <td>0</td>\n",
       "    </tr>\n",
       "    <tr>\n",
       "      <th>107</th>\n",
       "      <td>103</td>\n",
       "      <td>0</td>\n",
       "      <td>52346333.0</td>\n",
       "      <td>19.95</td>\n",
       "      <td>0</td>\n",
       "      <td>1</td>\n",
       "      <td>0</td>\n",
       "    </tr>\n",
       "    <tr>\n",
       "      <th>108</th>\n",
       "      <td>103</td>\n",
       "      <td>0</td>\n",
       "      <td>52346334.0</td>\n",
       "      <td>19.95</td>\n",
       "      <td>0</td>\n",
       "      <td>1</td>\n",
       "      <td>0</td>\n",
       "    </tr>\n",
       "    <tr>\n",
       "      <th>109</th>\n",
       "      <td>103</td>\n",
       "      <td>0</td>\n",
       "      <td>52346335.0</td>\n",
       "      <td>19.95</td>\n",
       "      <td>0</td>\n",
       "      <td>1</td>\n",
       "      <td>0</td>\n",
       "    </tr>\n",
       "    <tr>\n",
       "      <th>110</th>\n",
       "      <td>103</td>\n",
       "      <td>0</td>\n",
       "      <td>52346336.0</td>\n",
       "      <td>19.95</td>\n",
       "      <td>0</td>\n",
       "      <td>1</td>\n",
       "      <td>0</td>\n",
       "    </tr>\n",
       "    <tr>\n",
       "      <th>111</th>\n",
       "      <td>103</td>\n",
       "      <td>0</td>\n",
       "      <td>52346337.0</td>\n",
       "      <td>19.95</td>\n",
       "      <td>0</td>\n",
       "      <td>1</td>\n",
       "      <td>0</td>\n",
       "    </tr>\n",
       "    <tr>\n",
       "      <th>112</th>\n",
       "      <td>103</td>\n",
       "      <td>0</td>\n",
       "      <td>52346338.0</td>\n",
       "      <td>19.95</td>\n",
       "      <td>0</td>\n",
       "      <td>1</td>\n",
       "      <td>0</td>\n",
       "    </tr>\n",
       "    <tr>\n",
       "      <th>113</th>\n",
       "      <td>103</td>\n",
       "      <td>0</td>\n",
       "      <td>52346339.0</td>\n",
       "      <td>19.95</td>\n",
       "      <td>0</td>\n",
       "      <td>1</td>\n",
       "      <td>0</td>\n",
       "    </tr>\n",
       "    <tr>\n",
       "      <th>114</th>\n",
       "      <td>103</td>\n",
       "      <td>0</td>\n",
       "      <td>52346340.0</td>\n",
       "      <td>19.95</td>\n",
       "      <td>0</td>\n",
       "      <td>1</td>\n",
       "      <td>0</td>\n",
       "    </tr>\n",
       "    <tr>\n",
       "      <th>115</th>\n",
       "      <td>103</td>\n",
       "      <td>0</td>\n",
       "      <td>52346341.0</td>\n",
       "      <td>19.95</td>\n",
       "      <td>0</td>\n",
       "      <td>1</td>\n",
       "      <td>0</td>\n",
       "    </tr>\n",
       "    <tr>\n",
       "      <th>116</th>\n",
       "      <td>103</td>\n",
       "      <td>0</td>\n",
       "      <td>52346342.0</td>\n",
       "      <td>19.95</td>\n",
       "      <td>0</td>\n",
       "      <td>1</td>\n",
       "      <td>0</td>\n",
       "    </tr>\n",
       "    <tr>\n",
       "      <th>122</th>\n",
       "      <td>109</td>\n",
       "      <td>0</td>\n",
       "      <td>52346343.0</td>\n",
       "      <td>19.95</td>\n",
       "      <td>0</td>\n",
       "      <td>1</td>\n",
       "      <td>0</td>\n",
       "    </tr>\n",
       "    <tr>\n",
       "      <th>140</th>\n",
       "      <td>127</td>\n",
       "      <td>0</td>\n",
       "      <td>52346344.0</td>\n",
       "      <td>32.95</td>\n",
       "      <td>0</td>\n",
       "      <td>1</td>\n",
       "      <td>0</td>\n",
       "    </tr>\n",
       "    <tr>\n",
       "      <th>141</th>\n",
       "      <td>127</td>\n",
       "      <td>0</td>\n",
       "      <td>52346345.0</td>\n",
       "      <td>32.95</td>\n",
       "      <td>0</td>\n",
       "      <td>1</td>\n",
       "      <td>0</td>\n",
       "    </tr>\n",
       "    <tr>\n",
       "      <th>149</th>\n",
       "      <td>135</td>\n",
       "      <td>0</td>\n",
       "      <td>52346346.0</td>\n",
       "      <td>32.95</td>\n",
       "      <td>0</td>\n",
       "      <td>1</td>\n",
       "      <td>0</td>\n",
       "    </tr>\n",
       "    <tr>\n",
       "      <th>150</th>\n",
       "      <td>135</td>\n",
       "      <td>0</td>\n",
       "      <td>52346347.0</td>\n",
       "      <td>32.95</td>\n",
       "      <td>0</td>\n",
       "      <td>1</td>\n",
       "      <td>0</td>\n",
       "    </tr>\n",
       "    <tr>\n",
       "      <th>151</th>\n",
       "      <td>135</td>\n",
       "      <td>0</td>\n",
       "      <td>52346348.0</td>\n",
       "      <td>32.95</td>\n",
       "      <td>0</td>\n",
       "      <td>1</td>\n",
       "      <td>0</td>\n",
       "    </tr>\n",
       "    <tr>\n",
       "      <th>153</th>\n",
       "      <td>137</td>\n",
       "      <td>1</td>\n",
       "      <td>52346349.0</td>\n",
       "      <td>29.95</td>\n",
       "      <td>0</td>\n",
       "      <td>1</td>\n",
       "      <td>0</td>\n",
       "    </tr>\n",
       "    <tr>\n",
       "      <th>154</th>\n",
       "      <td>137</td>\n",
       "      <td>1</td>\n",
       "      <td>52346350.0</td>\n",
       "      <td>29.95</td>\n",
       "      <td>0</td>\n",
       "      <td>1</td>\n",
       "      <td>0</td>\n",
       "    </tr>\n",
       "    <tr>\n",
       "      <th>155</th>\n",
       "      <td>138</td>\n",
       "      <td>1</td>\n",
       "      <td>52346351.0</td>\n",
       "      <td>24.95</td>\n",
       "      <td>0</td>\n",
       "      <td>1</td>\n",
       "      <td>0</td>\n",
       "    </tr>\n",
       "    <tr>\n",
       "      <th>266</th>\n",
       "      <td>249</td>\n",
       "      <td>1</td>\n",
       "      <td>52346352.0</td>\n",
       "      <td>39.95</td>\n",
       "      <td>0</td>\n",
       "      <td>1</td>\n",
       "      <td>0</td>\n",
       "    </tr>\n",
       "    <tr>\n",
       "      <th>277</th>\n",
       "      <td>260</td>\n",
       "      <td>1</td>\n",
       "      <td>52346353.0</td>\n",
       "      <td>29.95</td>\n",
       "      <td>0</td>\n",
       "      <td>1</td>\n",
       "      <td>0</td>\n",
       "    </tr>\n",
       "    <tr>\n",
       "      <th>278</th>\n",
       "      <td>261</td>\n",
       "      <td>1</td>\n",
       "      <td>52346354.0</td>\n",
       "      <td>29.95</td>\n",
       "      <td>0</td>\n",
       "      <td>1</td>\n",
       "      <td>0</td>\n",
       "    </tr>\n",
       "    <tr>\n",
       "      <th>279</th>\n",
       "      <td>261</td>\n",
       "      <td>1</td>\n",
       "      <td>52346355.0</td>\n",
       "      <td>29.95</td>\n",
       "      <td>0</td>\n",
       "      <td>1</td>\n",
       "      <td>0</td>\n",
       "    </tr>\n",
       "    <tr>\n",
       "      <th>...</th>\n",
       "      <td>...</td>\n",
       "      <td>...</td>\n",
       "      <td>...</td>\n",
       "      <td>...</td>\n",
       "      <td>...</td>\n",
       "      <td>...</td>\n",
       "      <td>...</td>\n",
       "    </tr>\n",
       "    <tr>\n",
       "      <th>64118</th>\n",
       "      <td>59419</td>\n",
       "      <td>0</td>\n",
       "      <td>52353726.0</td>\n",
       "      <td>32.95</td>\n",
       "      <td>0</td>\n",
       "      <td>1</td>\n",
       "      <td>0</td>\n",
       "    </tr>\n",
       "    <tr>\n",
       "      <th>64119</th>\n",
       "      <td>59419</td>\n",
       "      <td>0</td>\n",
       "      <td>52353727.0</td>\n",
       "      <td>32.95</td>\n",
       "      <td>0</td>\n",
       "      <td>1</td>\n",
       "      <td>0</td>\n",
       "    </tr>\n",
       "    <tr>\n",
       "      <th>64120</th>\n",
       "      <td>59419</td>\n",
       "      <td>0</td>\n",
       "      <td>52353728.0</td>\n",
       "      <td>32.95</td>\n",
       "      <td>0</td>\n",
       "      <td>1</td>\n",
       "      <td>0</td>\n",
       "    </tr>\n",
       "    <tr>\n",
       "      <th>64185</th>\n",
       "      <td>59484</td>\n",
       "      <td>1</td>\n",
       "      <td>52353729.0</td>\n",
       "      <td>29.95</td>\n",
       "      <td>0</td>\n",
       "      <td>1</td>\n",
       "      <td>0</td>\n",
       "    </tr>\n",
       "    <tr>\n",
       "      <th>64186</th>\n",
       "      <td>59484</td>\n",
       "      <td>1</td>\n",
       "      <td>52353730.0</td>\n",
       "      <td>29.95</td>\n",
       "      <td>0</td>\n",
       "      <td>1</td>\n",
       "      <td>0</td>\n",
       "    </tr>\n",
       "    <tr>\n",
       "      <th>64187</th>\n",
       "      <td>59484</td>\n",
       "      <td>1</td>\n",
       "      <td>52353731.0</td>\n",
       "      <td>29.95</td>\n",
       "      <td>0</td>\n",
       "      <td>1</td>\n",
       "      <td>0</td>\n",
       "    </tr>\n",
       "    <tr>\n",
       "      <th>64188</th>\n",
       "      <td>59484</td>\n",
       "      <td>1</td>\n",
       "      <td>52353732.0</td>\n",
       "      <td>29.95</td>\n",
       "      <td>0</td>\n",
       "      <td>1</td>\n",
       "      <td>0</td>\n",
       "    </tr>\n",
       "    <tr>\n",
       "      <th>64194</th>\n",
       "      <td>59490</td>\n",
       "      <td>1</td>\n",
       "      <td>52353733.0</td>\n",
       "      <td>24.95</td>\n",
       "      <td>0</td>\n",
       "      <td>1</td>\n",
       "      <td>0</td>\n",
       "    </tr>\n",
       "    <tr>\n",
       "      <th>64200</th>\n",
       "      <td>59496</td>\n",
       "      <td>1</td>\n",
       "      <td>52353734.0</td>\n",
       "      <td>39.95</td>\n",
       "      <td>0</td>\n",
       "      <td>1</td>\n",
       "      <td>0</td>\n",
       "    </tr>\n",
       "    <tr>\n",
       "      <th>64211</th>\n",
       "      <td>59507</td>\n",
       "      <td>0</td>\n",
       "      <td>52353735.0</td>\n",
       "      <td>19.95</td>\n",
       "      <td>0</td>\n",
       "      <td>1</td>\n",
       "      <td>0</td>\n",
       "    </tr>\n",
       "    <tr>\n",
       "      <th>64212</th>\n",
       "      <td>59507</td>\n",
       "      <td>0</td>\n",
       "      <td>52353736.0</td>\n",
       "      <td>19.95</td>\n",
       "      <td>0</td>\n",
       "      <td>1</td>\n",
       "      <td>0</td>\n",
       "    </tr>\n",
       "    <tr>\n",
       "      <th>64213</th>\n",
       "      <td>59507</td>\n",
       "      <td>0</td>\n",
       "      <td>52353737.0</td>\n",
       "      <td>19.95</td>\n",
       "      <td>0</td>\n",
       "      <td>1</td>\n",
       "      <td>0</td>\n",
       "    </tr>\n",
       "    <tr>\n",
       "      <th>64214</th>\n",
       "      <td>59507</td>\n",
       "      <td>0</td>\n",
       "      <td>52353738.0</td>\n",
       "      <td>19.95</td>\n",
       "      <td>0</td>\n",
       "      <td>1</td>\n",
       "      <td>0</td>\n",
       "    </tr>\n",
       "    <tr>\n",
       "      <th>64215</th>\n",
       "      <td>59507</td>\n",
       "      <td>0</td>\n",
       "      <td>52353739.0</td>\n",
       "      <td>19.95</td>\n",
       "      <td>0</td>\n",
       "      <td>1</td>\n",
       "      <td>0</td>\n",
       "    </tr>\n",
       "    <tr>\n",
       "      <th>64268</th>\n",
       "      <td>59560</td>\n",
       "      <td>1</td>\n",
       "      <td>52353740.0</td>\n",
       "      <td>39.95</td>\n",
       "      <td>0</td>\n",
       "      <td>1</td>\n",
       "      <td>0</td>\n",
       "    </tr>\n",
       "    <tr>\n",
       "      <th>64278</th>\n",
       "      <td>59570</td>\n",
       "      <td>0</td>\n",
       "      <td>52353741.0</td>\n",
       "      <td>24.95</td>\n",
       "      <td>0</td>\n",
       "      <td>1</td>\n",
       "      <td>0</td>\n",
       "    </tr>\n",
       "    <tr>\n",
       "      <th>64279</th>\n",
       "      <td>59570</td>\n",
       "      <td>0</td>\n",
       "      <td>52353742.0</td>\n",
       "      <td>24.95</td>\n",
       "      <td>0</td>\n",
       "      <td>1</td>\n",
       "      <td>0</td>\n",
       "    </tr>\n",
       "    <tr>\n",
       "      <th>64282</th>\n",
       "      <td>59573</td>\n",
       "      <td>0</td>\n",
       "      <td>52353743.0</td>\n",
       "      <td>24.95</td>\n",
       "      <td>0</td>\n",
       "      <td>1</td>\n",
       "      <td>0</td>\n",
       "    </tr>\n",
       "    <tr>\n",
       "      <th>64283</th>\n",
       "      <td>59573</td>\n",
       "      <td>0</td>\n",
       "      <td>52353744.0</td>\n",
       "      <td>24.95</td>\n",
       "      <td>0</td>\n",
       "      <td>1</td>\n",
       "      <td>0</td>\n",
       "    </tr>\n",
       "    <tr>\n",
       "      <th>64284</th>\n",
       "      <td>59573</td>\n",
       "      <td>0</td>\n",
       "      <td>52353745.0</td>\n",
       "      <td>24.95</td>\n",
       "      <td>0</td>\n",
       "      <td>1</td>\n",
       "      <td>0</td>\n",
       "    </tr>\n",
       "    <tr>\n",
       "      <th>64292</th>\n",
       "      <td>59581</td>\n",
       "      <td>1</td>\n",
       "      <td>52353746.0</td>\n",
       "      <td>24.95</td>\n",
       "      <td>0</td>\n",
       "      <td>1</td>\n",
       "      <td>0</td>\n",
       "    </tr>\n",
       "    <tr>\n",
       "      <th>64293</th>\n",
       "      <td>59581</td>\n",
       "      <td>1</td>\n",
       "      <td>52353747.0</td>\n",
       "      <td>24.95</td>\n",
       "      <td>0</td>\n",
       "      <td>1</td>\n",
       "      <td>0</td>\n",
       "    </tr>\n",
       "    <tr>\n",
       "      <th>64340</th>\n",
       "      <td>59628</td>\n",
       "      <td>1</td>\n",
       "      <td>52353748.0</td>\n",
       "      <td>39.95</td>\n",
       "      <td>0</td>\n",
       "      <td>1</td>\n",
       "      <td>0</td>\n",
       "    </tr>\n",
       "    <tr>\n",
       "      <th>64341</th>\n",
       "      <td>59628</td>\n",
       "      <td>1</td>\n",
       "      <td>52353749.0</td>\n",
       "      <td>39.95</td>\n",
       "      <td>0</td>\n",
       "      <td>1</td>\n",
       "      <td>0</td>\n",
       "    </tr>\n",
       "    <tr>\n",
       "      <th>64344</th>\n",
       "      <td>59631</td>\n",
       "      <td>1</td>\n",
       "      <td>52353750.0</td>\n",
       "      <td>-24.95</td>\n",
       "      <td>0</td>\n",
       "      <td>0</td>\n",
       "      <td>1</td>\n",
       "    </tr>\n",
       "    <tr>\n",
       "      <th>64367</th>\n",
       "      <td>59654</td>\n",
       "      <td>1</td>\n",
       "      <td>52353751.0</td>\n",
       "      <td>39.95</td>\n",
       "      <td>0</td>\n",
       "      <td>1</td>\n",
       "      <td>0</td>\n",
       "    </tr>\n",
       "    <tr>\n",
       "      <th>64368</th>\n",
       "      <td>59654</td>\n",
       "      <td>1</td>\n",
       "      <td>52353752.0</td>\n",
       "      <td>39.95</td>\n",
       "      <td>0</td>\n",
       "      <td>1</td>\n",
       "      <td>0</td>\n",
       "    </tr>\n",
       "    <tr>\n",
       "      <th>64403</th>\n",
       "      <td>59689</td>\n",
       "      <td>0</td>\n",
       "      <td>52353753.0</td>\n",
       "      <td>24.95</td>\n",
       "      <td>0</td>\n",
       "      <td>1</td>\n",
       "      <td>0</td>\n",
       "    </tr>\n",
       "    <tr>\n",
       "      <th>64404</th>\n",
       "      <td>59689</td>\n",
       "      <td>0</td>\n",
       "      <td>52353754.0</td>\n",
       "      <td>24.95</td>\n",
       "      <td>0</td>\n",
       "      <td>1</td>\n",
       "      <td>0</td>\n",
       "    </tr>\n",
       "    <tr>\n",
       "      <th>64409</th>\n",
       "      <td>59694</td>\n",
       "      <td>1</td>\n",
       "      <td>52353755.0</td>\n",
       "      <td>24.95</td>\n",
       "      <td>0</td>\n",
       "      <td>1</td>\n",
       "      <td>0</td>\n",
       "    </tr>\n",
       "  </tbody>\n",
       "</table>\n",
       "<p>7430 rows × 7 columns</p>\n",
       "</div>"
      ],
      "text/plain": [
       "       sample_id  test_group  transaction_id  transaction_amount  \\\n",
       "10            11           1      52346326.0               24.95   \n",
       "11            11           1      52346327.0               24.95   \n",
       "32            32           1      52346328.0               29.95   \n",
       "33            32           1      52346329.0               29.95   \n",
       "34            32           1      52346330.0               29.95   \n",
       "35            32           1      52346331.0               29.95   \n",
       "106          103           0      52346332.0               19.95   \n",
       "107          103           0      52346333.0               19.95   \n",
       "108          103           0      52346334.0               19.95   \n",
       "109          103           0      52346335.0               19.95   \n",
       "110          103           0      52346336.0               19.95   \n",
       "111          103           0      52346337.0               19.95   \n",
       "112          103           0      52346338.0               19.95   \n",
       "113          103           0      52346339.0               19.95   \n",
       "114          103           0      52346340.0               19.95   \n",
       "115          103           0      52346341.0               19.95   \n",
       "116          103           0      52346342.0               19.95   \n",
       "122          109           0      52346343.0               19.95   \n",
       "140          127           0      52346344.0               32.95   \n",
       "141          127           0      52346345.0               32.95   \n",
       "149          135           0      52346346.0               32.95   \n",
       "150          135           0      52346347.0               32.95   \n",
       "151          135           0      52346348.0               32.95   \n",
       "153          137           1      52346349.0               29.95   \n",
       "154          137           1      52346350.0               29.95   \n",
       "155          138           1      52346351.0               24.95   \n",
       "266          249           1      52346352.0               39.95   \n",
       "277          260           1      52346353.0               29.95   \n",
       "278          261           1      52346354.0               29.95   \n",
       "279          261           1      52346355.0               29.95   \n",
       "...          ...         ...             ...                 ...   \n",
       "64118      59419           0      52353726.0               32.95   \n",
       "64119      59419           0      52353727.0               32.95   \n",
       "64120      59419           0      52353728.0               32.95   \n",
       "64185      59484           1      52353729.0               29.95   \n",
       "64186      59484           1      52353730.0               29.95   \n",
       "64187      59484           1      52353731.0               29.95   \n",
       "64188      59484           1      52353732.0               29.95   \n",
       "64194      59490           1      52353733.0               24.95   \n",
       "64200      59496           1      52353734.0               39.95   \n",
       "64211      59507           0      52353735.0               19.95   \n",
       "64212      59507           0      52353736.0               19.95   \n",
       "64213      59507           0      52353737.0               19.95   \n",
       "64214      59507           0      52353738.0               19.95   \n",
       "64215      59507           0      52353739.0               19.95   \n",
       "64268      59560           1      52353740.0               39.95   \n",
       "64278      59570           0      52353741.0               24.95   \n",
       "64279      59570           0      52353742.0               24.95   \n",
       "64282      59573           0      52353743.0               24.95   \n",
       "64283      59573           0      52353744.0               24.95   \n",
       "64284      59573           0      52353745.0               24.95   \n",
       "64292      59581           1      52353746.0               24.95   \n",
       "64293      59581           1      52353747.0               24.95   \n",
       "64340      59628           1      52353748.0               39.95   \n",
       "64341      59628           1      52353749.0               39.95   \n",
       "64344      59631           1      52353750.0              -24.95   \n",
       "64367      59654           1      52353751.0               39.95   \n",
       "64368      59654           1      52353752.0               39.95   \n",
       "64403      59689           0      52353753.0               24.95   \n",
       "64404      59689           0      52353754.0               24.95   \n",
       "64409      59694           1      52353755.0               24.95   \n",
       "\n",
       "       transaction_type_CHARGEBACK  transaction_type_REBILL  \\\n",
       "10                               0                        1   \n",
       "11                               0                        1   \n",
       "32                               0                        1   \n",
       "33                               0                        1   \n",
       "34                               0                        1   \n",
       "35                               0                        1   \n",
       "106                              0                        1   \n",
       "107                              0                        1   \n",
       "108                              0                        1   \n",
       "109                              0                        1   \n",
       "110                              0                        1   \n",
       "111                              0                        1   \n",
       "112                              0                        1   \n",
       "113                              0                        1   \n",
       "114                              0                        1   \n",
       "115                              0                        1   \n",
       "116                              0                        1   \n",
       "122                              0                        1   \n",
       "140                              0                        1   \n",
       "141                              0                        1   \n",
       "149                              0                        1   \n",
       "150                              0                        1   \n",
       "151                              0                        1   \n",
       "153                              0                        1   \n",
       "154                              0                        1   \n",
       "155                              0                        1   \n",
       "266                              0                        1   \n",
       "277                              0                        1   \n",
       "278                              0                        1   \n",
       "279                              0                        1   \n",
       "...                            ...                      ...   \n",
       "64118                            0                        1   \n",
       "64119                            0                        1   \n",
       "64120                            0                        1   \n",
       "64185                            0                        1   \n",
       "64186                            0                        1   \n",
       "64187                            0                        1   \n",
       "64188                            0                        1   \n",
       "64194                            0                        1   \n",
       "64200                            0                        1   \n",
       "64211                            0                        1   \n",
       "64212                            0                        1   \n",
       "64213                            0                        1   \n",
       "64214                            0                        1   \n",
       "64215                            0                        1   \n",
       "64268                            0                        1   \n",
       "64278                            0                        1   \n",
       "64279                            0                        1   \n",
       "64282                            0                        1   \n",
       "64283                            0                        1   \n",
       "64284                            0                        1   \n",
       "64292                            0                        1   \n",
       "64293                            0                        1   \n",
       "64340                            0                        1   \n",
       "64341                            0                        1   \n",
       "64344                            0                        0   \n",
       "64367                            0                        1   \n",
       "64368                            0                        1   \n",
       "64403                            0                        1   \n",
       "64404                            0                        1   \n",
       "64409                            0                        1   \n",
       "\n",
       "       transaction_type_REFUND  \n",
       "10                           0  \n",
       "11                           0  \n",
       "32                           0  \n",
       "33                           0  \n",
       "34                           0  \n",
       "35                           0  \n",
       "106                          0  \n",
       "107                          0  \n",
       "108                          0  \n",
       "109                          0  \n",
       "110                          0  \n",
       "111                          0  \n",
       "112                          0  \n",
       "113                          0  \n",
       "114                          0  \n",
       "115                          0  \n",
       "116                          0  \n",
       "122                          0  \n",
       "140                          0  \n",
       "141                          0  \n",
       "149                          0  \n",
       "150                          0  \n",
       "151                          0  \n",
       "153                          0  \n",
       "154                          0  \n",
       "155                          0  \n",
       "266                          0  \n",
       "277                          0  \n",
       "278                          0  \n",
       "279                          0  \n",
       "...                        ...  \n",
       "64118                        0  \n",
       "64119                        0  \n",
       "64120                        0  \n",
       "64185                        0  \n",
       "64186                        0  \n",
       "64187                        0  \n",
       "64188                        0  \n",
       "64194                        0  \n",
       "64200                        0  \n",
       "64211                        0  \n",
       "64212                        0  \n",
       "64213                        0  \n",
       "64214                        0  \n",
       "64215                        0  \n",
       "64268                        0  \n",
       "64278                        0  \n",
       "64279                        0  \n",
       "64282                        0  \n",
       "64283                        0  \n",
       "64284                        0  \n",
       "64292                        0  \n",
       "64293                        0  \n",
       "64340                        0  \n",
       "64341                        0  \n",
       "64344                        1  \n",
       "64367                        0  \n",
       "64368                        0  \n",
       "64403                        0  \n",
       "64404                        0  \n",
       "64409                        0  \n",
       "\n",
       "[7430 rows x 7 columns]"
      ]
     },
     "execution_count": 95,
     "metadata": {},
     "output_type": "execute_result"
    }
   ],
   "source": [
    "app_data.dropna(subset = ['transaction_id', 'transaction_type_CHARGEBACK', 'transaction_type_REBILL', 'transaction_type_REFUND', 'transaction_amount'])"
   ]
  },
  {
   "cell_type": "code",
   "execution_count": 96,
   "metadata": {
    "collapsed": false,
    "deletable": true,
    "editable": true
   },
   "outputs": [],
   "source": [
    "#app_data = app_data.replace('NaN', 0)"
   ]
  },
  {
   "cell_type": "markdown",
   "metadata": {
    "deletable": true,
    "editable": true
   },
   "source": [
    "## Analizing the test groups with respect to Rebill Transactions"
   ]
  },
  {
   "cell_type": "code",
   "execution_count": 98,
   "metadata": {
    "collapsed": false,
    "deletable": true,
    "editable": true
   },
   "outputs": [
    {
     "data": {
      "text/html": [
       "<div>\n",
       "<style scoped>\n",
       "    .dataframe tbody tr th:only-of-type {\n",
       "        vertical-align: middle;\n",
       "    }\n",
       "\n",
       "    .dataframe tbody tr th {\n",
       "        vertical-align: top;\n",
       "    }\n",
       "\n",
       "    .dataframe thead th {\n",
       "        text-align: right;\n",
       "    }\n",
       "</style>\n",
       "<table border=\"1\" class=\"dataframe\">\n",
       "  <thead>\n",
       "    <tr style=\"text-align: right;\">\n",
       "      <th></th>\n",
       "      <th></th>\n",
       "      <th>sample_id</th>\n",
       "      <th>transaction_id</th>\n",
       "      <th>transaction_amount</th>\n",
       "      <th>transaction_type_CHARGEBACK</th>\n",
       "      <th>transaction_type_REFUND</th>\n",
       "    </tr>\n",
       "    <tr>\n",
       "      <th>test_group</th>\n",
       "      <th>transaction_type_REBILL</th>\n",
       "      <th></th>\n",
       "      <th></th>\n",
       "      <th></th>\n",
       "      <th></th>\n",
       "      <th></th>\n",
       "    </tr>\n",
       "  </thead>\n",
       "  <tbody>\n",
       "    <tr>\n",
       "      <th rowspan=\"2\" valign=\"top\">0</th>\n",
       "      <th>0</th>\n",
       "      <td>44101</td>\n",
       "      <td>294</td>\n",
       "      <td>294</td>\n",
       "      <td>44101</td>\n",
       "      <td>44101</td>\n",
       "    </tr>\n",
       "    <tr>\n",
       "      <th>1</th>\n",
       "      <td>3756</td>\n",
       "      <td>3756</td>\n",
       "      <td>3756</td>\n",
       "      <td>3756</td>\n",
       "      <td>3756</td>\n",
       "    </tr>\n",
       "    <tr>\n",
       "      <th rowspan=\"2\" valign=\"top\">1</th>\n",
       "      <th>0</th>\n",
       "      <td>13375</td>\n",
       "      <td>175</td>\n",
       "      <td>175</td>\n",
       "      <td>13375</td>\n",
       "      <td>13375</td>\n",
       "    </tr>\n",
       "    <tr>\n",
       "      <th>1</th>\n",
       "      <td>3205</td>\n",
       "      <td>3205</td>\n",
       "      <td>3205</td>\n",
       "      <td>3205</td>\n",
       "      <td>3205</td>\n",
       "    </tr>\n",
       "  </tbody>\n",
       "</table>\n",
       "</div>"
      ],
      "text/plain": [
       "                                    sample_id  transaction_id  \\\n",
       "test_group transaction_type_REBILL                              \n",
       "0          0                            44101             294   \n",
       "           1                             3756            3756   \n",
       "1          0                            13375             175   \n",
       "           1                             3205            3205   \n",
       "\n",
       "                                    transaction_amount  \\\n",
       "test_group transaction_type_REBILL                       \n",
       "0          0                                       294   \n",
       "           1                                      3756   \n",
       "1          0                                       175   \n",
       "           1                                      3205   \n",
       "\n",
       "                                    transaction_type_CHARGEBACK  \\\n",
       "test_group transaction_type_REBILL                                \n",
       "0          0                                              44101   \n",
       "           1                                               3756   \n",
       "1          0                                              13375   \n",
       "           1                                               3205   \n",
       "\n",
       "                                    transaction_type_REFUND  \n",
       "test_group transaction_type_REBILL                           \n",
       "0          0                                          44101  \n",
       "           1                                           3756  \n",
       "1          0                                          13375  \n",
       "           1                                           3205  "
      ]
     },
     "execution_count": 98,
     "metadata": {},
     "output_type": "execute_result"
    }
   ],
   "source": [
    "app_data.groupby(['test_group', 'transaction_type_REBILL']).count()"
   ]
  },
  {
   "cell_type": "code",
   "execution_count": 99,
   "metadata": {
    "collapsed": false,
    "deletable": true,
    "editable": true
   },
   "outputs": [
    {
     "data": {
      "image/png": "[encoded data removed]",
      "text/plain": [
       "<Figure size 432x288 with 1 Axes>"
      ]
     },
     "metadata": {},
     "output_type": "display_data"
    }
   ],
   "source": [
    "\n",
    "ax = sns.countplot(x=\"test_group\", hue=\"transaction_type_REBILL\", data=app_data)"
   ]
  },
  {
   "cell_type": "markdown",
   "metadata": {
    "deletable": true,
    "editable": true
   },
   "source": [
    "As per the the table and  plot from above,  the number of test group users (1) that have generated a Rebill Transaction is 3205 and represents as percentage __19.33%__, while the numberof control group users(0) that have generated a Rebill Transaction is 3756,as percentage:__7.85%__. \n",
    "As the numbers say (but not necessary while using a prediction model), __an user that must call-in to cancel (1=test group) IS  more likely to generate at least 1 addition REBILL__."
   ]
  },
  {
   "cell_type": "markdown",
   "metadata": {
    "deletable": true,
    "editable": true
   },
   "source": [
    "## Analizing the test groups with respect to the Transactions amount"
   ]
  },
  {
   "cell_type": "code",
   "execution_count": 100,
   "metadata": {
    "collapsed": false,
    "deletable": true,
    "editable": true
   },
   "outputs": [
    {
     "data": {
      "text/html": [
       "<div>\n",
       "<style scoped>\n",
       "    .dataframe tbody tr th:only-of-type {\n",
       "        vertical-align: middle;\n",
       "    }\n",
       "\n",
       "    .dataframe tbody tr th {\n",
       "        vertical-align: top;\n",
       "    }\n",
       "\n",
       "    .dataframe thead th {\n",
       "        text-align: right;\n",
       "    }\n",
       "</style>\n",
       "<table border=\"1\" class=\"dataframe\">\n",
       "  <thead>\n",
       "    <tr style=\"text-align: right;\">\n",
       "      <th></th>\n",
       "      <th></th>\n",
       "      <th>sample_id</th>\n",
       "      <th>transaction_id</th>\n",
       "      <th>transaction_type_CHARGEBACK</th>\n",
       "      <th>transaction_type_REBILL</th>\n",
       "      <th>transaction_type_REFUND</th>\n",
       "    </tr>\n",
       "    <tr>\n",
       "      <th>test_group</th>\n",
       "      <th>transaction_amount</th>\n",
       "      <th></th>\n",
       "      <th></th>\n",
       "      <th></th>\n",
       "      <th></th>\n",
       "      <th></th>\n",
       "    </tr>\n",
       "  </thead>\n",
       "  <tbody>\n",
       "    <tr>\n",
       "      <th rowspan=\"6\" valign=\"top\">0</th>\n",
       "      <th>-32.95</th>\n",
       "      <td>90</td>\n",
       "      <td>90</td>\n",
       "      <td>90</td>\n",
       "      <td>90</td>\n",
       "      <td>90</td>\n",
       "    </tr>\n",
       "    <tr>\n",
       "      <th>-24.95</th>\n",
       "      <td>97</td>\n",
       "      <td>97</td>\n",
       "      <td>97</td>\n",
       "      <td>97</td>\n",
       "      <td>97</td>\n",
       "    </tr>\n",
       "    <tr>\n",
       "      <th>-19.95</th>\n",
       "      <td>107</td>\n",
       "      <td>107</td>\n",
       "      <td>107</td>\n",
       "      <td>107</td>\n",
       "      <td>107</td>\n",
       "    </tr>\n",
       "    <tr>\n",
       "      <th>19.95</th>\n",
       "      <td>1189</td>\n",
       "      <td>1189</td>\n",
       "      <td>1189</td>\n",
       "      <td>1189</td>\n",
       "      <td>1189</td>\n",
       "    </tr>\n",
       "    <tr>\n",
       "      <th>24.95</th>\n",
       "      <td>1368</td>\n",
       "      <td>1368</td>\n",
       "      <td>1368</td>\n",
       "      <td>1368</td>\n",
       "      <td>1368</td>\n",
       "    </tr>\n",
       "    <tr>\n",
       "      <th>32.95</th>\n",
       "      <td>1199</td>\n",
       "      <td>1199</td>\n",
       "      <td>1199</td>\n",
       "      <td>1199</td>\n",
       "      <td>1199</td>\n",
       "    </tr>\n",
       "    <tr>\n",
       "      <th rowspan=\"6\" valign=\"top\">1</th>\n",
       "      <th>-39.95</th>\n",
       "      <td>50</td>\n",
       "      <td>50</td>\n",
       "      <td>50</td>\n",
       "      <td>50</td>\n",
       "      <td>50</td>\n",
       "    </tr>\n",
       "    <tr>\n",
       "      <th>-29.95</th>\n",
       "      <td>64</td>\n",
       "      <td>64</td>\n",
       "      <td>64</td>\n",
       "      <td>64</td>\n",
       "      <td>64</td>\n",
       "    </tr>\n",
       "    <tr>\n",
       "      <th>-24.95</th>\n",
       "      <td>61</td>\n",
       "      <td>61</td>\n",
       "      <td>61</td>\n",
       "      <td>61</td>\n",
       "      <td>61</td>\n",
       "    </tr>\n",
       "    <tr>\n",
       "      <th>24.95</th>\n",
       "      <td>1124</td>\n",
       "      <td>1124</td>\n",
       "      <td>1124</td>\n",
       "      <td>1124</td>\n",
       "      <td>1124</td>\n",
       "    </tr>\n",
       "    <tr>\n",
       "      <th>29.95</th>\n",
       "      <td>1031</td>\n",
       "      <td>1031</td>\n",
       "      <td>1031</td>\n",
       "      <td>1031</td>\n",
       "      <td>1031</td>\n",
       "    </tr>\n",
       "    <tr>\n",
       "      <th>39.95</th>\n",
       "      <td>1050</td>\n",
       "      <td>1050</td>\n",
       "      <td>1050</td>\n",
       "      <td>1050</td>\n",
       "      <td>1050</td>\n",
       "    </tr>\n",
       "  </tbody>\n",
       "</table>\n",
       "</div>"
      ],
      "text/plain": [
       "                               sample_id  transaction_id  \\\n",
       "test_group transaction_amount                              \n",
       "0          -32.95                     90              90   \n",
       "           -24.95                     97              97   \n",
       "           -19.95                    107             107   \n",
       "            19.95                   1189            1189   \n",
       "            24.95                   1368            1368   \n",
       "            32.95                   1199            1199   \n",
       "1          -39.95                     50              50   \n",
       "           -29.95                     64              64   \n",
       "           -24.95                     61              61   \n",
       "            24.95                   1124            1124   \n",
       "            29.95                   1031            1031   \n",
       "            39.95                   1050            1050   \n",
       "\n",
       "                               transaction_type_CHARGEBACK  \\\n",
       "test_group transaction_amount                                \n",
       "0          -32.95                                       90   \n",
       "           -24.95                                       97   \n",
       "           -19.95                                      107   \n",
       "            19.95                                     1189   \n",
       "            24.95                                     1368   \n",
       "            32.95                                     1199   \n",
       "1          -39.95                                       50   \n",
       "           -29.95                                       64   \n",
       "           -24.95                                       61   \n",
       "            24.95                                     1124   \n",
       "            29.95                                     1031   \n",
       "            39.95                                     1050   \n",
       "\n",
       "                               transaction_type_REBILL  \\\n",
       "test_group transaction_amount                            \n",
       "0          -32.95                                   90   \n",
       "           -24.95                                   97   \n",
       "           -19.95                                  107   \n",
       "            19.95                                 1189   \n",
       "            24.95                                 1368   \n",
       "            32.95                                 1199   \n",
       "1          -39.95                                   50   \n",
       "           -29.95                                   64   \n",
       "           -24.95                                   61   \n",
       "            24.95                                 1124   \n",
       "            29.95                                 1031   \n",
       "            39.95                                 1050   \n",
       "\n",
       "                               transaction_type_REFUND  \n",
       "test_group transaction_amount                           \n",
       "0          -32.95                                   90  \n",
       "           -24.95                                   97  \n",
       "           -19.95                                  107  \n",
       "            19.95                                 1189  \n",
       "            24.95                                 1368  \n",
       "            32.95                                 1199  \n",
       "1          -39.95                                   50  \n",
       "           -29.95                                   64  \n",
       "           -24.95                                   61  \n",
       "            24.95                                 1124  \n",
       "            29.95                                 1031  \n",
       "            39.95                                 1050  "
      ]
     },
     "execution_count": 100,
     "metadata": {},
     "output_type": "execute_result"
    }
   ],
   "source": [
    "app_data.groupby(['test_group', 'transaction_amount']).count()"
   ]
  },
  {
   "cell_type": "code",
   "execution_count": 101,
   "metadata": {
    "collapsed": false,
    "deletable": true,
    "editable": true
   },
   "outputs": [
    {
     "data": {
      "text/plain": [
       "28.23476331360791"
      ]
     },
     "execution_count": 101,
     "metadata": {},
     "output_type": "execute_result"
    }
   ],
   "source": [
    "#the mean value in transactions corresponding  1=test group\n",
    "app_data.loc[app_data['test_group'] == 1, 'transaction_amount'].mean()"
   ]
  },
  {
   "cell_type": "code",
   "execution_count": 102,
   "metadata": {
    "collapsed": false,
    "deletable": true,
    "editable": true
   },
   "outputs": [
    {
     "data": {
      "text/plain": [
       "22.182444444443032"
      ]
     },
     "execution_count": 102,
     "metadata": {},
     "output_type": "execute_result"
    }
   ],
   "source": [
    "#the mean value in transactions corresponding  0= control group\n",
    "app_data.loc[app_data['test_group'] == 0, 'transaction_amount'].mean()"
   ]
  },
  {
   "cell_type": "code",
   "execution_count": 103,
   "metadata": {
    "collapsed": false,
    "deletable": true,
    "editable": true
   },
   "outputs": [
    {
     "data": {
      "text/plain": [
       "95433.49999999473"
      ]
     },
     "execution_count": 103,
     "metadata": {},
     "output_type": "execute_result"
    }
   ],
   "source": [
    "#Sum values in transactions corresponding  1=test group\n",
    "app_data.groupby('test_group')['transaction_amount'].sum()[1]"
   ]
  },
  {
   "cell_type": "code",
   "execution_count": 104,
   "metadata": {
    "collapsed": false,
    "deletable": true,
    "editable": true
   },
   "outputs": [
    {
     "data": {
      "text/plain": [
       "89838.89999999428"
      ]
     },
     "execution_count": 104,
     "metadata": {},
     "output_type": "execute_result"
    }
   ],
   "source": [
    "#Sum values in transactions corresponding   0= control group\n",
    "app_data.groupby('test_group')['transaction_amount'].sum()[0]"
   ]
  },
  {
   "cell_type": "code",
   "execution_count": 105,
   "metadata": {
    "collapsed": false,
    "deletable": true,
    "editable": true
   },
   "outputs": [
    {
     "data": {
      "image/png": "[encoded data removed]",
      "text/plain": [
       "<Figure size 432x288 with 1 Axes>"
      ]
     },
     "metadata": {},
     "output_type": "display_data"
    }
   ],
   "source": [
    "import seaborn as sns\n",
    "ax = sns.countplot(x=\"test_group\", hue=\"transaction_amount\", data=app_data)"
   ]
  },
  {
   "cell_type": "markdown",
   "metadata": {
    "deletable": true,
    "editable": true
   },
   "source": [
    "As per the  plot from above and stats, there is a sligthly difference between the revenue values brought by the test group users (1=95433.49) and one brought by the numberof control group users(0=89838.89). \n",
    "As the numbers say , __an user that must call-in to cancel (1=test group) IS MORE LIKELY to generate more revenues__."
   ]
  },
  {
   "cell_type": "markdown",
   "metadata": {
    "deletable": true,
    "editable": true
   },
   "source": [
    "## Analizing the test groups with respect to CHARGEBACK/Refund Transactions"
   ]
  },
  {
   "cell_type": "code",
   "execution_count": 106,
   "metadata": {
    "collapsed": false,
    "deletable": true,
    "editable": true
   },
   "outputs": [
    {
     "data": {
      "text/html": [
       "<div>\n",
       "<style scoped>\n",
       "    .dataframe tbody tr th:only-of-type {\n",
       "        vertical-align: middle;\n",
       "    }\n",
       "\n",
       "    .dataframe tbody tr th {\n",
       "        vertical-align: top;\n",
       "    }\n",
       "\n",
       "    .dataframe thead th {\n",
       "        text-align: right;\n",
       "    }\n",
       "</style>\n",
       "<table border=\"1\" class=\"dataframe\">\n",
       "  <thead>\n",
       "    <tr style=\"text-align: right;\">\n",
       "      <th></th>\n",
       "      <th></th>\n",
       "      <th>sample_id</th>\n",
       "      <th>transaction_id</th>\n",
       "      <th>transaction_amount</th>\n",
       "      <th>transaction_type_REBILL</th>\n",
       "      <th>transaction_type_REFUND</th>\n",
       "    </tr>\n",
       "    <tr>\n",
       "      <th>test_group</th>\n",
       "      <th>transaction_type_CHARGEBACK</th>\n",
       "      <th></th>\n",
       "      <th></th>\n",
       "      <th></th>\n",
       "      <th></th>\n",
       "      <th></th>\n",
       "    </tr>\n",
       "  </thead>\n",
       "  <tbody>\n",
       "    <tr>\n",
       "      <th rowspan=\"2\" valign=\"top\">0</th>\n",
       "      <th>0</th>\n",
       "      <td>47751</td>\n",
       "      <td>3944</td>\n",
       "      <td>3944</td>\n",
       "      <td>47751</td>\n",
       "      <td>47751</td>\n",
       "    </tr>\n",
       "    <tr>\n",
       "      <th>1</th>\n",
       "      <td>106</td>\n",
       "      <td>106</td>\n",
       "      <td>106</td>\n",
       "      <td>106</td>\n",
       "      <td>106</td>\n",
       "    </tr>\n",
       "    <tr>\n",
       "      <th rowspan=\"2\" valign=\"top\">1</th>\n",
       "      <th>0</th>\n",
       "      <td>16523</td>\n",
       "      <td>3323</td>\n",
       "      <td>3323</td>\n",
       "      <td>16523</td>\n",
       "      <td>16523</td>\n",
       "    </tr>\n",
       "    <tr>\n",
       "      <th>1</th>\n",
       "      <td>57</td>\n",
       "      <td>57</td>\n",
       "      <td>57</td>\n",
       "      <td>57</td>\n",
       "      <td>57</td>\n",
       "    </tr>\n",
       "  </tbody>\n",
       "</table>\n",
       "</div>"
      ],
      "text/plain": [
       "                                        sample_id  transaction_id  \\\n",
       "test_group transaction_type_CHARGEBACK                              \n",
       "0          0                                47751            3944   \n",
       "           1                                  106             106   \n",
       "1          0                                16523            3323   \n",
       "           1                                   57              57   \n",
       "\n",
       "                                        transaction_amount  \\\n",
       "test_group transaction_type_CHARGEBACK                       \n",
       "0          0                                          3944   \n",
       "           1                                           106   \n",
       "1          0                                          3323   \n",
       "           1                                            57   \n",
       "\n",
       "                                        transaction_type_REBILL  \\\n",
       "test_group transaction_type_CHARGEBACK                            \n",
       "0          0                                              47751   \n",
       "           1                                                106   \n",
       "1          0                                              16523   \n",
       "           1                                                 57   \n",
       "\n",
       "                                        transaction_type_REFUND  \n",
       "test_group transaction_type_CHARGEBACK                           \n",
       "0          0                                              47751  \n",
       "           1                                                106  \n",
       "1          0                                              16523  \n",
       "           1                                                 57  "
      ]
     },
     "execution_count": 106,
     "metadata": {},
     "output_type": "execute_result"
    }
   ],
   "source": [
    "app_data.groupby(['test_group', 'transaction_type_CHARGEBACK']).count()"
   ]
  },
  {
   "cell_type": "code",
   "execution_count": 107,
   "metadata": {
    "collapsed": false,
    "deletable": true,
    "editable": true
   },
   "outputs": [
    {
     "data": {
      "text/html": [
       "<div>\n",
       "<style scoped>\n",
       "    .dataframe tbody tr th:only-of-type {\n",
       "        vertical-align: middle;\n",
       "    }\n",
       "\n",
       "    .dataframe tbody tr th {\n",
       "        vertical-align: top;\n",
       "    }\n",
       "\n",
       "    .dataframe thead th {\n",
       "        text-align: right;\n",
       "    }\n",
       "</style>\n",
       "<table border=\"1\" class=\"dataframe\">\n",
       "  <thead>\n",
       "    <tr style=\"text-align: right;\">\n",
       "      <th></th>\n",
       "      <th></th>\n",
       "      <th>sample_id</th>\n",
       "      <th>transaction_id</th>\n",
       "      <th>transaction_amount</th>\n",
       "      <th>transaction_type_CHARGEBACK</th>\n",
       "      <th>transaction_type_REBILL</th>\n",
       "    </tr>\n",
       "    <tr>\n",
       "      <th>test_group</th>\n",
       "      <th>transaction_type_REFUND</th>\n",
       "      <th></th>\n",
       "      <th></th>\n",
       "      <th></th>\n",
       "      <th></th>\n",
       "      <th></th>\n",
       "    </tr>\n",
       "  </thead>\n",
       "  <tbody>\n",
       "    <tr>\n",
       "      <th rowspan=\"2\" valign=\"top\">0</th>\n",
       "      <th>0</th>\n",
       "      <td>47669</td>\n",
       "      <td>3862</td>\n",
       "      <td>3862</td>\n",
       "      <td>47669</td>\n",
       "      <td>47669</td>\n",
       "    </tr>\n",
       "    <tr>\n",
       "      <th>1</th>\n",
       "      <td>188</td>\n",
       "      <td>188</td>\n",
       "      <td>188</td>\n",
       "      <td>188</td>\n",
       "      <td>188</td>\n",
       "    </tr>\n",
       "    <tr>\n",
       "      <th rowspan=\"2\" valign=\"top\">1</th>\n",
       "      <th>0</th>\n",
       "      <td>16462</td>\n",
       "      <td>3262</td>\n",
       "      <td>3262</td>\n",
       "      <td>16462</td>\n",
       "      <td>16462</td>\n",
       "    </tr>\n",
       "    <tr>\n",
       "      <th>1</th>\n",
       "      <td>118</td>\n",
       "      <td>118</td>\n",
       "      <td>118</td>\n",
       "      <td>118</td>\n",
       "      <td>118</td>\n",
       "    </tr>\n",
       "  </tbody>\n",
       "</table>\n",
       "</div>"
      ],
      "text/plain": [
       "                                    sample_id  transaction_id  \\\n",
       "test_group transaction_type_REFUND                              \n",
       "0          0                            47669            3862   \n",
       "           1                              188             188   \n",
       "1          0                            16462            3262   \n",
       "           1                              118             118   \n",
       "\n",
       "                                    transaction_amount  \\\n",
       "test_group transaction_type_REFUND                       \n",
       "0          0                                      3862   \n",
       "           1                                       188   \n",
       "1          0                                      3262   \n",
       "           1                                       118   \n",
       "\n",
       "                                    transaction_type_CHARGEBACK  \\\n",
       "test_group transaction_type_REFUND                                \n",
       "0          0                                              47669   \n",
       "           1                                                188   \n",
       "1          0                                              16462   \n",
       "           1                                                118   \n",
       "\n",
       "                                    transaction_type_REBILL  \n",
       "test_group transaction_type_REFUND                           \n",
       "0          0                                          47669  \n",
       "           1                                            188  \n",
       "1          0                                          16462  \n",
       "           1                                            118  "
      ]
     },
     "execution_count": 107,
     "metadata": {},
     "output_type": "execute_result"
    }
   ],
   "source": [
    "app_data.groupby(['test_group', 'transaction_type_REFUND']).count()"
   ]
  },
  {
   "cell_type": "code",
   "execution_count": 108,
   "metadata": {
    "collapsed": false,
    "deletable": true,
    "editable": true
   },
   "outputs": [
    {
     "data": {
      "image/png": "[encoded data removed]",
      "text/plain": [
       "<Figure size 432x288 with 1 Axes>"
      ]
     },
     "metadata": {},
     "output_type": "display_data"
    }
   ],
   "source": [
    "import seaborn as sns\n",
    "ax = sns.countplot(x=\"test_group\", hue=\"transaction_type_CHARGEBACK\", data=app_data)"
   ]
  },
  {
   "cell_type": "code",
   "execution_count": 109,
   "metadata": {
    "collapsed": false,
    "deletable": true,
    "editable": true
   },
   "outputs": [
    {
     "data": {
      "image/png": "[encoded data removed]",
      "text/plain": [
       "<Figure size 432x288 with 1 Axes>"
      ]
     },
     "metadata": {},
     "output_type": "display_data"
    }
   ],
   "source": [
    "ax = sns.countplot(x=\"test_group\", hue=\"transaction_type_REFUND\", data=app_data)"
   ]
  },
  {
   "cell_type": "markdown",
   "metadata": {
    "collapsed": true,
    "deletable": true,
    "editable": true
   },
   "source": [
    "As per the plot from above and stats, one one hand, the total number of Chargeback transactions done by the test group users (1) is 57 (0.35%), while the control group users(0) performed 106 (0.22%) Chargeback transactions. On the other hand, the total number of Refund transactions done by the test group users (1) is 118 (0.71%), while the control group users(0) performed 188 (0.4%) Refund transactions.\n",
    "As the numbers say , __an user that must call-in to cancel (1=test group) IS  more likely to produce a higher chargeback rate(CHARGEBACKs/Refund)__."
   ]
  },
  {
   "cell_type": "markdown",
   "metadata": {
    "collapsed": true,
    "deletable": true,
    "editable": true
   },
   "source": [
    "## __Note__:\n",
    "\n",
    "Although the experiment produced a  [sample size imbalance](https://janhove.github.io/design/2015/11/02/unequal-sample-sized), instead of using the total number of each type of transaction, I have used the percentage that represented the number within that group."
   ]
  },
  {
   "cell_type": "code",
   "execution_count": null,
   "metadata": {
    "collapsed": true,
    "deletable": true,
    "editable": true
   },
   "outputs": [],
   "source": []
  },
  {
   "cell_type": "code",
   "execution_count": null,
   "metadata": {
    "collapsed": true,
    "deletable": true,
    "editable": true
   },
   "outputs": [],
   "source": []
  }
 ],
 "metadata": {
  "kernelspec": {
   "display_name": "Python 3",
   "language": "python",
   "name": "python3"
  },
  "language_info": {
   "codemirror_mode": {
    "name": "ipython",
    "version": 3
   },
   "file_extension": ".py",
   "mimetype": "text/x-python",
   "name": "python",
   "nbconvert_exporter": "python",
   "pygments_lexer": "ipython3",
   "version": "3.6.3"
  }
 },
 "nbformat": 4,
 "nbformat_minor": 2
}
